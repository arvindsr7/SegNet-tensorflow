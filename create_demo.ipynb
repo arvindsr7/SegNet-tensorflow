{
 "cells": [
  {
   "cell_type": "code",
   "execution_count": 1,
   "metadata": {},
   "outputs": [],
   "source": [
    "from SegNet import SegNet\n",
    "from drawings_object import display_color_legend\n",
    "import os, glob\n",
    "from PIL import Image\n",
    "import numpy as np\n",
    "import cv2"
   ]
  },
  {
   "cell_type": "code",
   "execution_count": 2,
   "metadata": {},
   "outputs": [
    {
     "name": "stdout",
     "output_type": "stream",
     "text": [
      "VGG parameter loaded\n",
      "WARNING:tensorflow:From /tf/segnet/SegNet-tensorflow/SegNet.py:60: The name tf.Session is deprecated. Please use tf.compat.v1.Session instead.\n",
      "\n",
      "WARNING:tensorflow:From /tf/segnet/SegNet-tensorflow/SegNet.py:61: The name tf.placeholder is deprecated. Please use tf.compat.v1.placeholder instead.\n",
      "\n",
      "WARNING:tensorflow:From /tf/segnet/SegNet-tensorflow/layers_object.py:41: The name tf.variable_scope is deprecated. Please use tf.compat.v1.variable_scope instead.\n",
      "\n",
      "WARNING:tensorflow:From /tf/segnet/SegNet-tensorflow/layers_object.py:125: The name tf.get_variable is deprecated. Please use tf.compat.v1.get_variable instead.\n",
      "\n",
      "WARNING:tensorflow:From /tf/segnet/SegNet-tensorflow/layers_object.py:48: The name tf.summary.histogram is deprecated. Please use tf.compat.v1.summary.histogram instead.\n",
      "\n",
      "WARNING:tensorflow:\n",
      "The TensorFlow contrib module will not be included in TensorFlow 2.0.\n",
      "For more information, please see:\n",
      "  * https://github.com/tensorflow/community/blob/master/rfcs/20180907-contrib-sunset.md\n",
      "  * https://github.com/tensorflow/addons\n",
      "  * https://github.com/tensorflow/io (for I/O related ops)\n",
      "If you depend on functionality not listed there, please file an issue.\n",
      "\n",
      "WARNING:tensorflow:From /usr/local/lib/python3.6/dist-packages/tensorflow_core/contrib/layers/python/layers/layers.py:650: Layer.apply (from tensorflow.python.keras.engine.base_layer) is deprecated and will be removed in a future version.\n",
      "Instructions for updating:\n",
      "Please use `layer.__call__` method instead.\n",
      "WARNING:tensorflow:From /tf/segnet/SegNet-tensorflow/layers_object.py:13: to_double (from tensorflow.python.ops.math_ops) is deprecated and will be removed in a future version.\n",
      "Instructions for updating:\n",
      "Use `tf.cast` instead.\n",
      "WARNING:tensorflow:From /tf/segnet/SegNet-tensorflow/layers_object.py:15: to_float (from tensorflow.python.ops.math_ops) is deprecated and will be removed in a future version.\n",
      "Instructions for updating:\n",
      "Use `tf.cast` instead.\n",
      "WARNING:tensorflow:From /tf/segnet/SegNet-tensorflow/SegNet.py:98: dropout (from tensorflow.python.layers.core) is deprecated and will be removed in a future version.\n",
      "Instructions for updating:\n",
      "Use keras.layers.dropout instead.\n"
     ]
    }
   ],
   "source": [
    "segnet = SegNet(conf_file='./config-GTA5.json')"
   ]
  },
  {
   "cell_type": "code",
   "execution_count": 3,
   "metadata": {},
   "outputs": [],
   "source": [
    "test_images_dir = './GTA5_dataset/val/img/002'\n",
    "test_image_paths = glob.glob(os.path.join(test_images_dir, '*.png'))\n",
    "test_image_paths = sorted(test_image_paths)\n",
    "test_images = [np.array(Image.open(path)) for path in test_image_paths]"
   ]
  },
  {
   "cell_type": "code",
   "execution_count": 4,
   "metadata": {},
   "outputs": [
    {
     "name": "stdout",
     "output_type": "stream",
     "text": [
      "WARNING:tensorflow:From /tf/segnet/SegNet-tensorflow/SegNet.py:855: The name tf.global_variables is deprecated. Please use tf.compat.v1.global_variables instead.\n",
      "\n",
      "WARNING:tensorflow:From /tf/segnet/SegNet-tensorflow/SegNet.py:884: The name tf.train.Saver is deprecated. Please use tf.compat.v1.train.Saver instead.\n",
      "\n",
      "INFO:tensorflow:Restoring parameters from ./segnet_vgg_bayes_MFL_17000/gta5_five_class/model.ckpt-0/model.ckpt-0\n",
      "WARNING:tensorflow:From /tf/segnet/SegNet-tensorflow/evaluation_object.py:93: to_int64 (from tensorflow.python.ops.math_ops) is deprecated and will be removed in a future version.\n",
      "Instructions for updating:\n",
      "Use `tf.cast` instead.\n",
      "WARNING:tensorflow:From /tf/segnet/SegNet-tensorflow/evaluation_object.py:158: calling weighted_cross_entropy_with_logits (from tensorflow.python.ops.nn_impl) with targets is deprecated and will be removed in a future version.\n",
      "Instructions for updating:\n",
      "targets is deprecated, use labels instead\n",
      "WARNING:tensorflow:From /tf/segnet/SegNet-tensorflow/evaluation_object.py:160: The name tf.summary.scalar is deprecated. Please use tf.compat.v1.summary.scalar instead.\n",
      "\n",
      "WARNING:tensorflow:From /tf/segnet/SegNet-tensorflow/SegNet.py:888: calling softmax (from tensorflow.python.ops.nn_ops) with dim is deprecated and will be removed in a future version.\n",
      "Instructions for updating:\n",
      "dim is deprecated, use axis instead\n"
     ]
    }
   ],
   "source": [
    "images, pred_tot = segnet.create_demo(test_images)"
   ]
  },
  {
   "cell_type": "code",
   "execution_count": 5,
   "metadata": {},
   "outputs": [
    {
     "name": "stdout",
     "output_type": "stream",
     "text": [
      "frame = 0\n",
      "frame = 1\n",
      "frame = 2\n",
      "frame = 3\n",
      "frame = 4\n",
      "frame = 5\n",
      "frame = 6\n",
      "frame = 7\n",
      "frame = 8\n",
      "frame = 9\n",
      "frame = 10\n",
      "frame = 11\n",
      "frame = 12\n",
      "frame = 13\n",
      "frame = 14\n",
      "frame = 15\n",
      "frame = 16\n",
      "frame = 17\n",
      "frame = 18\n",
      "frame = 19\n",
      "frame = 20\n",
      "frame = 21\n",
      "frame = 22\n",
      "frame = 23\n",
      "frame = 24\n",
      "frame = 25\n",
      "frame = 26\n",
      "frame = 27\n",
      "frame = 28\n",
      "frame = 29\n",
      "frame = 30\n",
      "frame = 31\n",
      "frame = 32\n",
      "frame = 33\n",
      "frame = 34\n",
      "frame = 35\n",
      "frame = 36\n",
      "frame = 37\n",
      "frame = 38\n",
      "frame = 39\n",
      "frame = 40\n",
      "frame = 41\n",
      "frame = 42\n",
      "frame = 43\n",
      "frame = 44\n",
      "frame = 45\n",
      "frame = 46\n",
      "frame = 47\n",
      "frame = 48\n",
      "frame = 49\n",
      "frame = 50\n",
      "frame = 51\n",
      "frame = 52\n",
      "frame = 53\n",
      "frame = 54\n"
     ]
    }
   ],
   "source": [
    "\n",
    "height, width, channel = images[0].shape\n",
    "fourcc = cv2.VideoWriter_fourcc(*'mp4v')\n",
    "out = cv2.VideoWriter('project_demo_02.mp4', fourcc, 5, (width, height))\n",
    "count = 0\n",
    "for image, pred_image in zip(images, pred_tot):\n",
    "    print('frame =', count)\n",
    "    count += 1\n",
    "#     print(image.shape)\n",
    "    bgr_image = image.copy()\n",
    "    bgr_image[:,:,0] = image[:,:,2]\n",
    "    bgr_image[:,:,2] = image[:,:,0]\n",
    "#     print(bgr_image.shape)\n",
    "    dst = cv2.addWeighted(bgr_image, 0.5, pred_image, 0.5, 0)\n",
    "    out.write(dst)\n",
    "out.release()"
   ]
  }
 ],
 "metadata": {
  "kernelspec": {
   "display_name": "Python 3",
   "language": "python",
   "name": "python3"
  },
  "language_info": {
   "codemirror_mode": {
    "name": "ipython",
    "version": 3
   },
   "file_extension": ".py",
   "mimetype": "text/x-python",
   "name": "python",
   "nbconvert_exporter": "python",
   "pygments_lexer": "ipython3",
   "version": "3.6.9"
  }
 },
 "nbformat": 4,
 "nbformat_minor": 4
}
