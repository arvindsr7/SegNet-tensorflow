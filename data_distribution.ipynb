{
 "cells": [
  {
   "cell_type": "code",
   "execution_count": 1,
   "metadata": {},
   "outputs": [],
   "source": [
    "import json \n",
    "import os"
   ]
  },
  {
   "cell_type": "markdown",
   "metadata": {},
   "source": [
    "Creates a json file with all sequences and environment/weather types"
   ]
  },
  {
   "cell_type": "code",
   "execution_count": 2,
   "metadata": {},
   "outputs": [],
   "source": [
    "def get_weather(input_fname, output_fname):\n",
    "    location = './GTA5_dataset'\n",
    "    in_path_name = os.path.join(location, input_fname)\n",
    "    dict1 = {} \n",
    "  \n",
    "    # creating dictionary \n",
    "    with open(in_path_name) as fh: \n",
    "        for line in fh: \n",
    "            # reads each line and splits commas \n",
    "            command, description = line.strip().split(',', 1) \n",
    "            dict1[command] = description.strip() \n",
    "    o_path_name = os.path.join(location,output_fname)\n",
    "    out_file = open(o_path_name, \"w\") \n",
    "    json.dump(dict1, out_file, indent = 4, sort_keys = False) \n",
    "    out_file.close() "
   ]
  },
  {
   "cell_type": "code",
   "execution_count": 3,
   "metadata": {},
   "outputs": [],
   "source": [
    "get_weather('train_weather.txt','train_weather.json')"
   ]
  },
  {
   "cell_type": "code",
   "execution_count": 4,
   "metadata": {},
   "outputs": [],
   "source": [
    "get_weather('val_weather.txt','val_weather.json')"
   ]
  },
  {
   "cell_type": "markdown",
   "metadata": {},
   "source": [
    "Open/Load dictionary using json file and count/list sequences of the desired weather"
   ]
  },
  {
   "cell_type": "code",
   "execution_count": 5,
   "metadata": {},
   "outputs": [],
   "source": [
    "def find_environment(file_name, weather):\n",
    "    path_name = os.path.join('./GTA5_dataset',file_name)\n",
    "    with open(path_name) as f:\n",
    "        environment = json.load(f)\n",
    "        count = 0;\n",
    "        for sequence, w  in environment.items():  # for name, age in dictionary.iteritems():  (for Python 2.x)\n",
    "            if w == weather:\n",
    "                count += 1;\n",
    "                print(sequence)\n",
    "        print('There are ' + str(count) + ' sequences of ' + weather + ' in the set.')\n",
    "        "
   ]
  },
  {
   "cell_type": "code",
   "execution_count": 6,
   "metadata": {},
   "outputs": [
    {
     "name": "stdout",
     "output_type": "stream",
     "text": [
      "08\n",
      "09\n",
      "10\n",
      "11\n",
      "12\n",
      "13\n",
      "52\n",
      "53\n",
      "54\n",
      "55\n",
      "56\n",
      "57\n",
      "58\n",
      "70\n",
      "71\n",
      "72\n",
      "73\n",
      "74\n",
      "75\n",
      "76\n",
      "77\n",
      "There are 21 sequences of night in the set.\n"
     ]
    }
   ],
   "source": [
    "find_environment('train_weather.json',\"night\") # day, night, sunset, rain, snow"
   ]
  },
  {
   "cell_type": "code",
   "execution_count": null,
   "metadata": {},
   "outputs": [],
   "source": []
  }
 ],
 "metadata": {
  "kernelspec": {
   "display_name": "Python 3",
   "language": "python",
   "name": "python3"
  },
  "language_info": {
   "codemirror_mode": {
    "name": "ipython",
    "version": 3
   },
   "file_extension": ".py",
   "mimetype": "text/x-python",
   "name": "python",
   "nbconvert_exporter": "python",
   "pygments_lexer": "ipython3",
   "version": "3.6.9"
  }
 },
 "nbformat": 4,
 "nbformat_minor": 4
}
