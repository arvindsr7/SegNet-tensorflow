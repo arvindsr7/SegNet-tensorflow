{
 "cells": [
  {
   "cell_type": "code",
   "execution_count": 2,
   "metadata": {},
   "outputs": [],
   "source": [
    "import os\n",
    "import random\n",
    "import glob\n",
    "import numpy as np\n",
    "\n",
    "from PIL import Image\n",
    "import matplotlib.pyplot as plt\n",
    "\n",
    "%matplotlib inline"
   ]
  },
  {
   "cell_type": "code",
   "execution_count": 1,
   "metadata": {},
   "outputs": [],
   "source": [
    "def get_image_names(sequence, start_image, end_image):\n",
    "    \"\"\"\n",
    "    5 char img names\n",
    "    \"\"\"\n",
    "    image_names = []\n",
    "    for image_idx in range(start_image, end_image + 1, 10):\n",
    "        image_str = str(image_idx)\n",
    "        while(len(image_str) < 5):\n",
    "            image_str = '0' + image_str\n",
    "        \n",
    "        image_str += '.png'\n",
    "        image_names.append(os.path.join(sequence, sequence + '_' + image_str))\n",
    "    return image_names"
   ]
  },
  {
   "cell_type": "code",
   "execution_count": 3,
   "metadata": {},
   "outputs": [],
   "source": [
    "def get_image_full_path(data_root, image_name, image_set, image_type):\n",
    "    return os.path.join(data_root, image_set, image_type, image_name)"
   ]
  },
  {
   "cell_type": "code",
   "execution_count": 4,
   "metadata": {},
   "outputs": [],
   "source": [
    "def resize_image(img_path, width, height, save_path=None):\n",
    "    resized_img = Image.open(img_path)\n",
    "    resized_img = resized_img.resize((width, height))\n",
    "    \n",
    "    if save_path is not None:\n",
    "        resized_img.save(save_path)\n",
    "\n",
    "    return resized_img"
   ]
  },
  {
   "cell_type": "code",
   "execution_count": 5,
   "metadata": {},
   "outputs": [],
   "source": [
    "def category_to_id(category):\n",
    "    category_dict = {\n",
    "        'unlabeled' : 0,\n",
    "        'ambiguous' : 1,\n",
    "        'sky'       : 2,\n",
    "        'road'      : 3,\n",
    "        'sidewalk'  : 4,\n",
    "        'railtrack' : 5,\n",
    "        'terrain'   : 6,\n",
    "        'tree'      : 7,\n",
    "        'vegetation': 8,\n",
    "        'building'  : 9,\n",
    "        'infrastructure' : 10,\n",
    "        'fence'          : 11,\n",
    "        'billboard'      : 12,\n",
    "        'trafficlight'   : 13,\n",
    "        'trafficsign'    : 14,\n",
    "        'mobilebarrier'  : 15,\n",
    "        'firehydrant'    : 16,\n",
    "        'chair'          : 17,\n",
    "        'trash'          : 18,\n",
    "        'trashcan'       : 19,\n",
    "        'person'         : 20,\n",
    "        'animal'         : 21,\n",
    "        'bicycle'        : 22,\n",
    "        'motorcycle'     : 23,\n",
    "        'car'            : 24,\n",
    "        'van'            : 25,\n",
    "        'bus'            : 26,\n",
    "        'truck'          : 27,\n",
    "        'trailer'        : 28,\n",
    "        'train'          : 29,\n",
    "        'plane'          : 30,\n",
    "        'boat'           : 31\n",
    "    }\n",
    "    return category_dict[category]"
   ]
  },
  {
   "cell_type": "code",
   "execution_count": 6,
   "metadata": {},
   "outputs": [],
   "source": [
    "def create_label_image(label_image_path, categories, resize=None, save_path=None):\n",
    "    \n",
    "    if resize is not None:\n",
    "        new_width = resize[0]\n",
    "        new_height = resize[1]\n",
    "        cls_image = np.array(resize_image(label_image_path, new_width, new_height, save_path=None))\n",
    "    else:\n",
    "        cls_image = np.array(Image.open(label_image_path))\n",
    "    \n",
    "    result_image = np.zeros(cls_image.shape, dtype=np.uint8)\n",
    "    class_count = 1\n",
    "    for category in categories:\n",
    "        category_id = category_to_id(category)\n",
    "        result_image += np.array(cls_image == category_id, dtype=np.uint8) * class_count\n",
    "\n",
    "        class_count += 1\n",
    "        \n",
    "\n",
    "    out_image = Image.fromarray(result_image, 'L')\n",
    "    \n",
    "    if save_path is not None:\n",
    "        out_image.save(save_path)\n",
    "    \n",
    "    return out_image\n",
    "        "
   ]
  },
  {
   "cell_type": "code",
   "execution_count": 7,
   "metadata": {},
   "outputs": [
    {
     "name": "stdout",
     "output_type": "stream",
     "text": [
      "{0: 0, 'n_image_0': 0, 2: 0, 3: 0, 'n_image_3': 0, 'n_image_1': 0, 1: 0, 'n_image_4': 0, 4: 0, 'n_image_2': 0}\n",
      "Processing 075/075_01170.png\n",
      "{0: 107025, 'n_image_0': 1, 2: 657, 3: 0, 'n_image_3': 0, 'n_image_1': 1, 1: 59928, 'n_image_4': 1, 4: 35190, 'n_image_2': 1}\n",
      "Processing 075/075_02170.png\n",
      "{0: 11896606, 'n_image_0': 101, 2: 42015, 3: 0, 'n_image_3': 0, 'n_image_1': 101, 1: 3829261, 'n_image_4': 101, 4: 4714918, 'n_image_2': 96}\n",
      "Processing 075/075_03170.png\n",
      "{0: 24107518, 'n_image_0': 201, 2: 156745, 3: 81, 'n_image_3': 18, 'n_image_1': 201, 1: 10108310, 'n_image_4': 201, 4: 6390146, 'n_image_2': 196}\n",
      "Processing 072/072_00970.png\n",
      "{0: 35490401, 'n_image_0': 301, 2: 187561, 3: 5772, 'n_image_3': 57, 'n_image_1': 298, 1: 18109165, 'n_image_4': 292, 4: 7249901, 'n_image_2': 293}\n",
      "Processing 071/071_00380.png\n",
      "{0: 47933397, 'n_image_0': 401, 2: 212732, 3: 14279, 'n_image_3': 147, 'n_image_1': 398, 1: 20203477, 'n_image_4': 392, 4: 12958915, 'n_image_2': 387}\n",
      "Processing 071/071_01380.png\n",
      "{0: 61048190, 'n_image_0': 501, 2: 273550, 3: 17542, 'n_image_3': 198, 'n_image_1': 498, 1: 22379446, 'n_image_4': 486, 4: 17884072, 'n_image_2': 483}\n",
      "Processing 071/071_02380.png\n",
      "{0: 75896716, 'n_image_0': 601, 2: 358801, 3: 17542, 'n_image_3': 198, 'n_image_1': 598, 1: 27652510, 'n_image_4': 584, 4: 17957231, 'n_image_2': 583}\n",
      "Processing 069/069_00720.png\n",
      "{0: 87951982, 'n_image_0': 701, 2: 565910, 3: 17783, 'n_image_3': 215, 'n_image_1': 698, 1: 33309735, 'n_image_4': 676, 4: 20317390, 'n_image_2': 683}\n",
      "Processing 069/069_01720.png\n",
      "{0: 99526827, 'n_image_0': 801, 2: 770740, 3: 17783, 'n_image_3': 215, 'n_image_1': 798, 1: 38085019, 'n_image_4': 776, 4: 24042431, 'n_image_2': 781}\n",
      "Processing 068/068_01590.png\n",
      "{0: 110390484, 'n_image_0': 901, 2: 1001954, 3: 21340, 'n_image_3': 232, 'n_image_1': 898, 1: 43930476, 'n_image_4': 876, 4: 27378546, 'n_image_2': 881}\n",
      "Processing 068/068_02590.png\n",
      "{0: 122359429, 'n_image_0': 1001, 2: 1065163, 3: 42277, 'n_image_3': 279, 'n_image_1': 998, 1: 47170944, 'n_image_4': 976, 4: 32364987, 'n_image_2': 966}\n",
      "Processing 068/068_03590.png\n",
      "{0: 134184131, 'n_image_0': 1101, 2: 1143472, 3: 46749, 'n_image_3': 327, 'n_image_1': 1098, 1: 50150429, 'n_image_4': 1075, 4: 37758019, 'n_image_2': 1064}\n",
      "Processing 068/068_04590.png\n",
      "{0: 144976160, 'n_image_0': 1201, 2: 1256490, 3: 58185, 'n_image_3': 415, 'n_image_1': 1198, 1: 55643490, 'n_image_4': 1175, 4: 41628475, 'n_image_2': 1164}\n",
      "Processing 066/066_00990.png\n",
      "{0: 156700805, 'n_image_0': 1301, 2: 1406516, 3: 61889, 'n_image_3': 433, 'n_image_1': 1298, 1: 60922426, 'n_image_4': 1275, 4: 44751164, 'n_image_2': 1264}\n",
      "Processing 066/066_01990.png\n",
      "{0: 166151033, 'n_image_0': 1401, 2: 1575216, 3: 62052, 'n_image_3': 466, 'n_image_1': 1398, 1: 66857869, 'n_image_4': 1370, 4: 49476630, 'n_image_2': 1363}\n",
      "Processing 062/062_02010.png\n",
      "{0: 178077923, 'n_image_0': 1501, 2: 1829126, 3: 62229, 'n_image_3': 488, 'n_image_1': 1498, 1: 72860030, 'n_image_4': 1470, 4: 51573492, 'n_image_2': 1462}\n",
      "Processing 050/050_00580.png\n",
      "{0: 188252347, 'n_image_0': 1601, 2: 1891956, 3: 62787, 'n_image_3': 525, 'n_image_1': 1598, 1: 79751434, 'n_image_4': 1569, 4: 54724276, 'n_image_2': 1561}\n",
      "Processing 050/050_01580.png\n",
      "{0: 199520496, 'n_image_0': 1701, 2: 2586730, 3: 67006, 'n_image_3': 572, 'n_image_1': 1698, 1: 84375345, 'n_image_4': 1655, 4: 58413223, 'n_image_2': 1652}\n",
      "Processing 050/050_02580.png\n",
      "{0: 213459949, 'n_image_0': 1801, 2: 2882145, 3: 79733, 'n_image_3': 606, 'n_image_1': 1798, 1: 88632701, 'n_image_4': 1738, 4: 60188272, 'n_image_2': 1742}\n",
      "Processing 049/049_01420.png\n",
      "{0: 226028709, 'n_image_0': 1901, 2: 3060631, 3: 79733, 'n_image_3': 606, 'n_image_1': 1898, 1: 96134720, 'n_image_4': 1798, 4: 60219007, 'n_image_2': 1840}\n",
      "Processing 049/049_02420.png\n",
      "{0: 238211490, 'n_image_0': 2001, 2: 3812903, 3: 79984, 'n_image_3': 622, 'n_image_1': 1998, 1: 102941757, 'n_image_4': 1888, 4: 60756666, 'n_image_2': 1940}\n",
      "Processing 049/049_03420.png\n",
      "{0: 247876909, 'n_image_0': 2101, 2: 5919339, 3: 104829, 'n_image_3': 686, 'n_image_1': 2098, 1: 108297786, 'n_image_4': 1987, 4: 63883937, 'n_image_2': 2040}\n",
      "Processing 043/043_01140.png\n",
      "{0: 258821982, 'n_image_0': 2201, 2: 7532282, 3: 113417, 'n_image_3': 741, 'n_image_1': 2198, 1: 111799236, 'n_image_4': 2086, 4: 68095883, 'n_image_2': 2137}\n",
      "Processing 043/043_02140.png\n",
      "{0: 270042225, 'n_image_0': 2301, 2: 7775322, 3: 123471, 'n_image_3': 803, 'n_image_1': 2298, 1: 116890044, 'n_image_4': 2186, 4: 71811738, 'n_image_2': 2233}\n"
     ]
    }
   ],
   "source": [
    "image_names  = get_image_names('075', 1170, 3200)\n",
    "image_names += get_image_names('072', 10, 1590)\n",
    "image_names += get_image_names('071', 10, 2660)\n",
    "image_names += get_image_names('069', 10, 2410)\n",
    "image_names += get_image_names('068', 1290, 4790)\n",
    "image_names += get_image_names('066', 200, 2270)\n",
    "image_names += get_image_names('065', 10, 560)\n",
    "image_names += get_image_names('062', 1860, 2640)\n",
    "image_names += get_image_names('050', 220, 2760)\n",
    "image_names += get_image_names('049', 610, 3840)\n",
    "image_names += get_image_names('049', 4550, 4970)\n",
    "image_names += get_image_names('043', 1000, 2820)\n",
    "\n",
    "# print(image_names)\n",
    "\n",
    "data_root = './GTA5_dataset'\n",
    "processed_data_root = os.path.join(data_root, 'sidewalk_data')\n",
    "processed_data_train_rgb = os.path.join(processed_data_root, 'train', 'rgb')\n",
    "processed_data_train_label = os.path.join(processed_data_root, 'train', 'label')\n",
    "\n",
    "if not os.path.exists(processed_data_train_rgb):\n",
    "    os.makedirs(processed_data_train_rgb)\n",
    "if not os.path.exists(processed_data_train_label):\n",
    "    os.makedirs(processed_data_train_label)\n",
    "\n",
    "NEW_IMAGE_HEIGHT = 338\n",
    "NEW_IMAGE_WIDTH  = 600\n",
    "CATEGORIES = ['sidewalk', 'person', 'firehydrant', 'road']\n",
    "\n",
    "pixel_counts = {0 : 0, 'n_image_0' : 0}\n",
    "for c, category in enumerate(CATEGORIES, 1):\n",
    "    cat_pix_count = {c: 0, \n",
    "                     'n_image_' + str(c) : 0}\n",
    "    pixel_counts.update(cat_pix_count)\n",
    "\n",
    "print(pixel_counts)\n",
    "\n",
    "with open(os.path.join(processed_data_root, 'train.txt'), 'w') as file:\n",
    "    for idx, image_name in enumerate(image_names):\n",
    "        raw_rgb_image_path = get_image_full_path(data_root, image_name, image_set='train', image_type='img')\n",
    "        raw_label_image_path = get_image_full_path(data_root, image_name, image_set='train', image_type='cls')\n",
    "\n",
    "        output_rgb_path = os.path.join(processed_data_train_rgb, image_name)\n",
    "        output_label_path = os.path.join(processed_data_train_label, image_name)\n",
    "\n",
    "        new_image = resize_image(raw_rgb_image_path, NEW_IMAGE_WIDTH, NEW_IMAGE_HEIGHT, save_path=output_rgb_path)\n",
    "        label_image = create_label_image(raw_label_image_path, CATEGORIES, resize=(NEW_IMAGE_WIDTH, NEW_IMAGE_HEIGHT), save_path=output_label_path)\n",
    "\n",
    "        pair = '{} {}\\n'.format(output_rgb_path, output_label_path)\n",
    "        file.write(pair)\n",
    "\n",
    "        values, counts = np.unique(label_image, return_counts = True)\n",
    "        for value, count in zip(values, counts):\n",
    "            pixel_counts[value] += count\n",
    "            if (count > 0):\n",
    "                pixel_counts['n_image_' + str(value)] += 1\n",
    "\n",
    "        if idx % 100 == 0:\n",
    "            print('Processing', image_name)\n",
    "            print(pixel_counts)"
   ]
  },
  {
   "cell_type": "code",
   "execution_count": 8,
   "metadata": {},
   "outputs": [
    {
     "name": "stdout",
     "output_type": "stream",
     "text": [
      "{0: 278585757, 'n_image_0': 2369, 2: 7945393, 3: 126540, 'n_image_3': 849, 'n_image_1': 2366, 1: 120299153, 'n_image_4': 2251, 4: 73476357, 'n_image_2': 2299}\n",
      "class pixel freq [278585757, 120299153, 7945393, 126540, 73476357]\n",
      "Sorted class pixel freq [126540, 7945393, 73476357, 120299153, 278585757]\n",
      "Pixel median 73476357.0\n"
     ]
    }
   ],
   "source": [
    "print(pixel_counts)\n",
    "class_pixel_freqs = [pixel_counts[i] for i in range(int(len(pixel_counts) / 2))]\n",
    "print('class pixel freq', class_pixel_freqs)\n",
    "class_pixel_freqs = sorted(class_pixel_freqs)\n",
    "print('Sorted class pixel freq', class_pixel_freqs)\n",
    "\n",
    "freq_median = np.median(class_pixel_freqs)\n",
    "print('Pixel median', freq_median)"
   ]
  },
  {
   "cell_type": "code",
   "execution_count": 9,
   "metadata": {},
   "outputs": [],
   "source": [
    "def class_freq(n_pixel, n_image_presented, image_shape):\n",
    "    total_pixel = n_image_presented * image_shape[0] * image_shape[1]\n",
    "    return n_pixel / total_pixel"
   ]
  },
  {
   "cell_type": "code",
   "execution_count": 10,
   "metadata": {},
   "outputs": [
    {
     "name": "stdout",
     "output_type": "stream",
     "text": [
      "[0.5798636667907213, 0.2507147462990658, 0.017041525215062206, 0.0007349405147719907, 0.16095488789992088]\n"
     ]
    }
   ],
   "source": [
    "classes_alpha = [class_freq(pixel_counts[i], pixel_counts['n_image_' + str(i)], (NEW_IMAGE_HEIGHT, NEW_IMAGE_WIDTH)) for i in range(int(len(pixel_counts) / 2))]\n",
    "print(classes_alpha)"
   ]
  },
  {
   "cell_type": "code",
   "execution_count": 11,
   "metadata": {},
   "outputs": [
    {
     "data": {
      "text/plain": [
       "47380"
      ]
     },
     "execution_count": 11,
     "metadata": {},
     "output_type": "execute_result"
    }
   ],
   "source": [
    "20 * 2369\n"
   ]
  },
  {
   "cell_type": "markdown",
   "metadata": {},
   "source": [
    "Creating Val Dataset"
   ]
  },
  {
   "cell_type": "code",
   "execution_count": 12,
   "metadata": {},
   "outputs": [],
   "source": [
    "def get_image_names(sequence, start_image, end_image):\n",
    "    image_names = []\n",
    "    for image_idx in range(start_image, end_image + 1, 10):\n",
    "        image_str = str(image_idx)\n",
    "        while(len(image_str) < 5):\n",
    "            image_str = '0' + image_str\n",
    "            \n",
    "        image_str += '.png'\n",
    "        image_names.append(os.path.join(sequence, sequence + '_' + image_str))\n",
    "    return image_names"
   ]
  },
  {
   "cell_type": "code",
   "execution_count": 13,
   "metadata": {},
   "outputs": [
    {
     "name": "stdout",
     "output_type": "stream",
     "text": [
      "{0: 0, 'n_image_0': 0, 2: 0, 3: 0, 'n_image_3': 0, 'n_image_1': 0, 1: 0, 'n_image_4': 0, 4: 0, 'n_image_2': 0}\n",
      "Processing 047/047_00010.png\n",
      "{0: 119960, 'n_image_0': 1, 2: 1022, 3: 38, 'n_image_3': 1, 'n_image_1': 1, 1: 72127, 'n_image_4': 1, 4: 9653, 'n_image_2': 1}\n",
      "Processing 047/047_01010.png\n",
      "{0: 12142561, 'n_image_0': 101, 2: 177561, 3: 8619, 'n_image_3': 34, 'n_image_1': 101, 1: 5069750, 'n_image_4': 98, 4: 3084309, 'n_image_2': 98}\n",
      "Processing 044/044_00620.png\n",
      "{0: 22706705, 'n_image_0': 201, 2: 294073, 3: 8619, 'n_image_3': 34, 'n_image_1': 201, 1: 12992722, 'n_image_4': 198, 4: 4760681, 'n_image_2': 197}\n",
      "Processing 043/043_00220.png\n",
      "{0: 33954019, 'n_image_0': 301, 2: 598291, 3: 10948, 'n_image_3': 56, 'n_image_1': 301, 1: 19015538, 'n_image_4': 298, 4: 7464004, 'n_image_2': 297}\n",
      "Processing 043/043_01220.png\n",
      "{0: 43671290, 'n_image_0': 390, 2: 785039, 3: 13788, 'n_image_3': 82, 'n_image_1': 389, 1: 23297111, 'n_image_4': 397, 4: 13555572, 'n_image_2': 385}\n",
      "Processing 043/043_02220.png\n",
      "{0: 55639157, 'n_image_0': 490, 2: 922576, 3: 43366, 'n_image_3': 151, 'n_image_1': 489, 1: 28410517, 'n_image_4': 497, 4: 16587184, 'n_image_2': 482}\n",
      "Processing 043/043_03220.png\n",
      "{0: 69664388, 'n_image_0': 590, 2: 933779, 3: 43697, 'n_image_3': 174, 'n_image_1': 589, 1: 31362422, 'n_image_4': 597, 4: 19878514, 'n_image_2': 561}\n",
      "Processing 043/043_04220.png\n",
      "{0: 81578108, 'n_image_0': 690, 2: 1005427, 3: 50725, 'n_image_3': 196, 'n_image_1': 689, 1: 36846684, 'n_image_4': 697, 4: 22681856, 'n_image_2': 654}\n",
      "Processing 040/040_00240.png\n",
      "{0: 91805477, 'n_image_0': 790, 2: 1048253, 3: 64384, 'n_image_3': 215, 'n_image_1': 789, 1: 42608345, 'n_image_4': 797, 4: 26916341, 'n_image_2': 754}\n",
      "Processing 040/040_01240.png\n",
      "{0: 101783868, 'n_image_0': 890, 2: 1111504, 3: 64705, 'n_image_3': 233, 'n_image_1': 889, 1: 49797285, 'n_image_4': 896, 4: 29965438, 'n_image_2': 851}\n"
     ]
    }
   ],
   "source": [
    "image_names  = get_image_names('047', 10, 1390)\n",
    "image_names += get_image_names('044', 10, 1400)\n",
    "image_names += get_image_names('043', 10, 4810)\n",
    "image_names += get_image_names('042', 10, 170)\n",
    "image_names += get_image_names('040', 10, 1800)\n",
    "\n",
    "# print(image_names)\n",
    "\n",
    "data_root = './GTA5_dataset'\n",
    "processed_data_root = os.path.join(data_root, 'sidewalk_data')\n",
    "processed_data_val_rgb = os.path.join(processed_data_root, 'val', 'rgb')\n",
    "processed_data_val_label = os.path.join(processed_data_root, 'val', 'label')\n",
    "\n",
    "if not os.path.exists(processed_data_val_rgb):\n",
    "    os.makedirs(processed_data_val_rgb)\n",
    "if not os.path.exists(processed_data_val_label):\n",
    "    os.makedirs(processed_data_val_label)\n",
    "\n",
    "NEW_IMAGE_HEIGHT = 338\n",
    "NEW_IMAGE_WIDTH  = 600\n",
    "CATEGORIES = ['sidewalk', 'person', 'firehydrant', 'road']\n",
    "\n",
    "pixel_counts = {0 : 0, 'n_image_0' : 0}\n",
    "for c, category in enumerate(CATEGORIES, 1):\n",
    "    cat_pix_count = {c: 0, \n",
    "                     'n_image_' + str(c) : 0}\n",
    "    pixel_counts.update(cat_pix_count)\n",
    "\n",
    "print(pixel_counts)\n",
    "\n",
    "with open(os.path.join(processed_data_root, 'val.txt'), 'w') as file:\n",
    "    for idx, image_name in enumerate(image_names):\n",
    "        raw_rgb_image_path = get_image_full_path(data_root, image_name, image_set='val', image_type='img')\n",
    "        raw_label_image_path = get_image_full_path(data_root, image_name, image_set='val', image_type='cls')\n",
    "\n",
    "        output_rgb_path = os.path.join(processed_data_val_rgb, image_name)\n",
    "        output_label_path = os.path.join(processed_data_val_label, image_name)\n",
    "        \n",
    "        new_image = resize_image(raw_rgb_image_path, NEW_IMAGE_WIDTH, NEW_IMAGE_HEIGHT, save_path=output_rgb_path)\n",
    "        label_image = create_label_image(raw_label_image_path, CATEGORIES, resize=(NEW_IMAGE_WIDTH, NEW_IMAGE_HEIGHT), save_path=output_label_path)\n",
    "\n",
    "        pair = '{} {}\\n'.format(output_rgb_path, output_label_path)\n",
    "        file.write(pair)\n",
    "\n",
    "        values, counts = np.unique(label_image, return_counts = True)\n",
    "        for value, count in zip(values, counts):\n",
    "            pixel_counts[value] += count\n",
    "            if (count > 0):\n",
    "                pixel_counts['n_image_' + str(value)] += 1\n",
    "\n",
    "        if idx % 100 == 0:\n",
    "            print('Processing', image_name)\n",
    "            print(pixel_counts)"
   ]
  },
  {
   "cell_type": "code",
   "execution_count": 15,
   "metadata": {},
   "outputs": [
    {
     "name": "stdout",
     "output_type": "stream",
     "text": [
      "./GTA5_dataset/sidewalk_data/train/rgb\n"
     ]
    }
   ],
   "source": [
    "data_root = './GTA5_dataset'\n",
    "processed_data_root = os.path.join(data_root, 'sidewalk_data')\n",
    "processed_data_train_rgb = os.path.join(processed_data_root, 'train', 'rgb')\n",
    "processed_data_train_label = os.path.join(processed_data_root, 'train', 'label')\n",
    "print(processed_data_train_rgb)"
   ]
  },
  {
   "cell_type": "code",
   "execution_count": null,
   "metadata": {},
   "outputs": [],
   "source": []
  }
 ],
 "metadata": {
  "kernelspec": {
   "display_name": "Python 3",
   "language": "python",
   "name": "python3"
  },
  "language_info": {
   "codemirror_mode": {
    "name": "ipython",
    "version": 3
   },
   "file_extension": ".py",
   "mimetype": "text/x-python",
   "name": "python",
   "nbconvert_exporter": "python",
   "pygments_lexer": "ipython3",
   "version": "3.6.9"
  }
 },
 "nbformat": 4,
 "nbformat_minor": 4
}
